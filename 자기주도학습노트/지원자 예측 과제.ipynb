{
 "cells": [
  {
   "cell_type": "code",
   "execution_count": null,
   "id": "18c7ddfc",
   "metadata": {},
   "outputs": [],
   "source": [
    "import pandas as pd\n",
    "import numpy as np\n",
    "from pprint import pprint\n"
   ]
  },
  {
   "cell_type": "code",
   "execution_count": null,
   "id": "2cf3a43b",
   "metadata": {},
   "outputs": [],
   "source": [
    "df_train = pd.read_csv('./programmers_data/train_job/train.csv', header=0)\n",
    "df_test = pd.read_csv('./programmers_data/test_job.csv')\n",
    "\n",
    "job_tags = pd.read_csv('./programmers_data/train_job/job_tags.csv', header=0)\n",
    "user_tags = pd.read_csv('./programmers_data/train_job/user_tags.csv', header = 0)\n",
    "tags = pd.read_csv('./programmers_data/train_job/tags.csv', encoding = 'utf8', header=0)\n",
    "job_companies = pd.read_csv('./programmers_data/train_job/job_companies.csv', encoding = 'utf8', header = 0)"
   ]
  },
  {
   "cell_type": "code",
   "execution_count": null,
   "id": "b4c3e6d1",
   "metadata": {},
   "outputs": [],
   "source": [
    "job_companies = job_companies.drop(['companyID'], axis = 1)"
   ]
  },
  {
   "cell_type": "code",
   "execution_count": null,
   "id": "4d1a0d02",
   "metadata": {},
   "outputs": [],
   "source": [
    "tags['keyword'].values"
   ]
  },
  {
   "cell_type": "code",
   "execution_count": null,
   "id": "bb3f8c47",
   "metadata": {},
   "outputs": [],
   "source": [
    "user_tags = pd.DataFrame(user_tags, columns = ['userID', 'tagID', 'keyword'])"
   ]
  },
  {
   "cell_type": "markdown",
   "id": "16316834",
   "metadata": {},
   "source": [
    "#for문으로 작성한 merge.\n",
    "\n",
    "for i in range(len(user_tags)):\n",
    "    for j in range(len(tags)):\n",
    "        if tags['tagID'][j].rfind(user_tags.loc[i, 'tagID']) != -1:\n",
    "            user_tags.loc[i, 'keyword'] = tags['keyword'][j]"
   ]
  },
  {
   "cell_type": "markdown",
   "id": "b22f3b56",
   "metadata": {},
   "source": [
    "#이렇게 해도 될듯?\n",
    "#이렇게 해야됨. 왜냐면 append는 데이터 프레임에 적용이 안doem.\n",
    "\n",
    "keyword_list = []\n",
    "for i in range(len(user_tags)):\n",
    "    for j in range(len(tags)):\n",
    "        if tags['tagID'][j] == user_tags.loc[i, 'tagID']:\n",
    "            keyword_list.append(tags['keyword'][j])\n",
    "\n",
    "user_tags['keyword'] = keyword_list"
   ]
  },
  {
   "cell_type": "code",
   "execution_count": null,
   "id": "633f4cea",
   "metadata": {},
   "outputs": [],
   "source": [
    "user_tags['keyword'].value_counts()"
   ]
  },
  {
   "cell_type": "code",
   "execution_count": null,
   "id": "c7b9014a",
   "metadata": {},
   "outputs": [],
   "source": [
    "user_tags"
   ]
  },
  {
   "cell_type": "code",
   "execution_count": null,
   "id": "1d6e2bc6",
   "metadata": {},
   "outputs": [],
   "source": [
    "user_tags_merge = pd.merge(user_tags, tags)\n",
    "job_tags_merge = pd.merge(job_tags, tags)\n",
    "job_tags_merge = pd.merge(job_tags, job_companies)"
   ]
  },
  {
   "cell_type": "code",
   "execution_count": null,
   "id": "83de7e04",
   "metadata": {},
   "outputs": [],
   "source": [
    "# job_tags_merge['companySize'에 존재하는 결측치 제거 필요.]"
   ]
  },
  {
   "cell_type": "code",
   "execution_count": null,
   "id": "78f68bf7",
   "metadata": {},
   "outputs": [],
   "source": []
  }
 ],
 "metadata": {
  "kernelspec": {
   "display_name": "Python 3",
   "language": "python",
   "name": "python3"
  },
  "language_info": {
   "codemirror_mode": {
    "name": "ipython",
    "version": 3
   },
   "file_extension": ".py",
   "mimetype": "text/x-python",
   "name": "python",
   "nbconvert_exporter": "python",
   "pygments_lexer": "ipython3",
   "version": "3.8.8"
  }
 },
 "nbformat": 4,
 "nbformat_minor": 5
}
